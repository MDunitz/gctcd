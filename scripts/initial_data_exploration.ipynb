{
 "cells": [
  {
   "cell_type": "code",
   "execution_count": 4,
   "metadata": {},
   "outputs": [
    {
     "name": "stdout",
     "output_type": "stream",
     "text": [
      "../../lab_work/sessions/incubations/2mLWetSpirullina.csv\n",
      "Index(['sample_id', 'ratio',\n",
      "       'amount to add  (in mg) to get 50 mg of C (or 100 mg of biomass)',\n",
      "       'weight difference (from empty) in mg', 'notes',\n",
      "       'incubation_start_date'],\n",
      "      dtype='object')\n",
      "../../lab_work/sessions/incubations/40mLDrySpirullina.csv\n",
      "Index(['sample_id', 'ratio', 'biomass (mg)', 'salt (mg)', 'total weight (mg)',\n",
      "       '5% Water (mg)', 'innoculum added', 'incubation_start_date'],\n",
      "      dtype='object')\n",
      "../../lab_work/sessions/incubations/2mLDrySpirullina.csv\n",
      "Index(['sample_id', 'ratio',\n",
      "       'amount to add  (in mg) to get 50 mg of C (or 100 mg of biomass)',\n",
      "       'amount added (mg)', 'notes', 'incubation_start_date'],\n",
      "      dtype='object')\n",
      "../../lab_work/sessions/incubations/40mLWetSpirullina.csv\n",
      "Index(['sample_id', 'ratio', 'biomass (mg)', 'salt (mg)', 'total weight (mg)',\n",
      "       '170% Water (mg)', 'innoculum added', 'incubation_start_date'],\n",
      "      dtype='object')\n"
     ]
    }
   ],
   "source": [
    "import os\n",
    "import pandas as pd\n",
    "path_to_incubations = \"../../lab_work/sessions/incubations\"\n",
    "\n",
    "for file_name in os.listdir(path_to_incubations):\n",
    "    path_to_file = os.path.join(path_to_incubations, file_name)\n",
    "    print(path_to_file)\n",
    "    df = pd.read_csv(path_to_file)\n",
    "    print(df.columns)\n",
    "    # print(path_to_file)\n",
    "    \n",
    "\n",
    "    \n"
   ]
  },
  {
   "cell_type": "code",
   "execution_count": null,
   "metadata": {},
   "outputs": [],
   "source": []
  }
 ],
 "metadata": {
  "kernelspec": {
   "display_name": ".env",
   "language": "python",
   "name": "python3"
  },
  "language_info": {
   "codemirror_mode": {
    "name": "ipython",
    "version": 3
   },
   "file_extension": ".py",
   "mimetype": "text/x-python",
   "name": "python",
   "nbconvert_exporter": "python",
   "pygments_lexer": "ipython3",
   "version": "3.11.4"
  },
  "vscode": {
   "interpreter": {
    "hash": "f0b0192d875430f17d416a58f1eb1ad09cb733937bf475342e8e3dda8b050b36"
   }
  }
 },
 "nbformat": 4,
 "nbformat_minor": 4
}
